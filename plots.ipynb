{
 "cells": [
  {
   "cell_type": "code",
   "execution_count": 86,
   "metadata": {
    "collapsed": true
   },
   "outputs": [],
   "source": [
    "import numpy as np\n",
    "import pandas as pd\n",
    "import matplotlib.pyplot as plt\n",
    "%matplotlib inline\n",
    "from datetime import datetime\n",
    "from sklearn.preprocessing import StandardScaler\n",
    "from sklearn.preprocessing import MinMaxScaler"
   ]
  },
  {
   "cell_type": "code",
   "execution_count": 68,
   "metadata": {
    "collapsed": true
   },
   "outputs": [],
   "source": [
    "weather_data = pd.DataFrame(pd.read_csv\\\n",
    "                            (\"data_final/weather_avg_data.csv\"))\n",
    "weather_data = weather_data.drop(\"Unnamed: 0\",1)\n",
    "\n",
    "taxi_trip_counts = pd.DataFrame(pd.read_csv\\\n",
    "                                (\"data_final/taxis_2011_2016.csv\"))\n",
    "\n",
    "taxi_trip_counts = taxi_trip_counts.drop(\"Unnamed: 0\",1)"
   ]
  },
  {
   "cell_type": "code",
   "execution_count": 69,
   "metadata": {},
   "outputs": [
    {
     "data": {
      "text/plain": [
       "array(['weatheryear', 'weathermonth', 'weatherday', 'avg(SDWclean)',\n",
       "       'avg(SDclean)', 'avg(SAclean)', 'avg(Spdclean)', 'avg(Visb)',\n",
       "       'avg(Temp)'], dtype=object)"
      ]
     },
     "execution_count": 69,
     "metadata": {},
     "output_type": "execute_result"
    }
   ],
   "source": [
    "weather_data.columns.values"
   ]
  },
  {
   "cell_type": "code",
   "execution_count": 70,
   "metadata": {},
   "outputs": [
    {
     "data": {
      "text/plain": [
       "(2558, 9)"
      ]
     },
     "execution_count": 70,
     "metadata": {},
     "output_type": "execute_result"
    }
   ],
   "source": [
    "weather_data.shape"
   ]
  },
  {
   "cell_type": "code",
   "execution_count": 71,
   "metadata": {},
   "outputs": [
    {
     "data": {
      "text/plain": [
       "array(['tripyear', 'tripmonth', 'tripday', 'count'], dtype=object)"
      ]
     },
     "execution_count": 71,
     "metadata": {},
     "output_type": "execute_result"
    }
   ],
   "source": [
    "taxi_trip_counts.columns.values"
   ]
  },
  {
   "cell_type": "code",
   "execution_count": 72,
   "metadata": {},
   "outputs": [
    {
     "data": {
      "text/plain": [
       "(1793, 4)"
      ]
     },
     "execution_count": 72,
     "metadata": {},
     "output_type": "execute_result"
    }
   ],
   "source": [
    "taxi_trip_counts.shape"
   ]
  },
  {
   "cell_type": "code",
   "execution_count": 73,
   "metadata": {},
   "outputs": [],
   "source": [
    "## get timestamp index for weather data\n",
    "dayofdata_weather = []\n",
    "for i in range(len(weather_data)):\n",
    "    dayofdata_weather.append(datetime(int(weather_data[\"weatheryear\"][i]), \\\n",
    "                              int(weather_data[\"weathermonth\"][i]),\\\n",
    "                              int(weather_data[\"weatherday\"][i])))\n",
    "weather_data[\"dayofdata\"] = dayofdata_weather\n",
    "weather_data = weather_data.set_index(\"dayofdata\",drop=True)    "
   ]
  },
  {
   "cell_type": "code",
   "execution_count": 74,
   "metadata": {},
   "outputs": [
    {
     "data": {
      "text/html": [
       "<div>\n",
       "<style>\n",
       "    .dataframe thead tr:only-child th {\n",
       "        text-align: right;\n",
       "    }\n",
       "\n",
       "    .dataframe thead th {\n",
       "        text-align: left;\n",
       "    }\n",
       "\n",
       "    .dataframe tbody tr th {\n",
       "        vertical-align: top;\n",
       "    }\n",
       "</style>\n",
       "<table border=\"1\" class=\"dataframe\">\n",
       "  <thead>\n",
       "    <tr style=\"text-align: right;\">\n",
       "      <th></th>\n",
       "      <th>weatheryear</th>\n",
       "      <th>weathermonth</th>\n",
       "      <th>weatherday</th>\n",
       "      <th>avg(SDWclean)</th>\n",
       "      <th>avg(SDclean)</th>\n",
       "      <th>avg(SAclean)</th>\n",
       "      <th>avg(Spdclean)</th>\n",
       "      <th>avg(Visb)</th>\n",
       "      <th>avg(Temp)</th>\n",
       "    </tr>\n",
       "    <tr>\n",
       "      <th>dayofdata</th>\n",
       "      <th></th>\n",
       "      <th></th>\n",
       "      <th></th>\n",
       "      <th></th>\n",
       "      <th></th>\n",
       "      <th></th>\n",
       "      <th></th>\n",
       "      <th></th>\n",
       "      <th></th>\n",
       "    </tr>\n",
       "  </thead>\n",
       "  <tbody>\n",
       "    <tr>\n",
       "      <th>2011-01-01</th>\n",
       "      <td>2011</td>\n",
       "      <td>1</td>\n",
       "      <td>1</td>\n",
       "      <td>1.0</td>\n",
       "      <td>4.212121</td>\n",
       "      <td>1.0</td>\n",
       "      <td>3.033333</td>\n",
       "      <td>11212.757576</td>\n",
       "      <td>3.293939</td>\n",
       "    </tr>\n",
       "    <tr>\n",
       "      <th>2011-01-02</th>\n",
       "      <td>2011</td>\n",
       "      <td>1</td>\n",
       "      <td>2</td>\n",
       "      <td>1.0</td>\n",
       "      <td>1.347826</td>\n",
       "      <td>1.0</td>\n",
       "      <td>2.347826</td>\n",
       "      <td>6513.043478</td>\n",
       "      <td>5.710870</td>\n",
       "    </tr>\n",
       "    <tr>\n",
       "      <th>2011-01-03</th>\n",
       "      <td>2011</td>\n",
       "      <td>1</td>\n",
       "      <td>3</td>\n",
       "      <td>1.0</td>\n",
       "      <td>0.093750</td>\n",
       "      <td>1.0</td>\n",
       "      <td>8.296875</td>\n",
       "      <td>16069.750000</td>\n",
       "      <td>1.118750</td>\n",
       "    </tr>\n",
       "    <tr>\n",
       "      <th>2011-01-04</th>\n",
       "      <td>2011</td>\n",
       "      <td>1</td>\n",
       "      <td>4</td>\n",
       "      <td>1.0</td>\n",
       "      <td>0.000000</td>\n",
       "      <td>1.0</td>\n",
       "      <td>4.243750</td>\n",
       "      <td>16069.750000</td>\n",
       "      <td>0.546875</td>\n",
       "    </tr>\n",
       "    <tr>\n",
       "      <th>2011-01-05</th>\n",
       "      <td>2011</td>\n",
       "      <td>1</td>\n",
       "      <td>5</td>\n",
       "      <td>1.0</td>\n",
       "      <td>0.000000</td>\n",
       "      <td>1.0</td>\n",
       "      <td>5.234375</td>\n",
       "      <td>16069.750000</td>\n",
       "      <td>1.662500</td>\n",
       "    </tr>\n",
       "  </tbody>\n",
       "</table>\n",
       "</div>"
      ],
      "text/plain": [
       "            weatheryear  weathermonth  weatherday  avg(SDWclean)  \\\n",
       "dayofdata                                                          \n",
       "2011-01-01         2011             1           1            1.0   \n",
       "2011-01-02         2011             1           2            1.0   \n",
       "2011-01-03         2011             1           3            1.0   \n",
       "2011-01-04         2011             1           4            1.0   \n",
       "2011-01-05         2011             1           5            1.0   \n",
       "\n",
       "            avg(SDclean)  avg(SAclean)  avg(Spdclean)     avg(Visb)  avg(Temp)  \n",
       "dayofdata                                                                       \n",
       "2011-01-01      4.212121           1.0       3.033333  11212.757576   3.293939  \n",
       "2011-01-02      1.347826           1.0       2.347826   6513.043478   5.710870  \n",
       "2011-01-03      0.093750           1.0       8.296875  16069.750000   1.118750  \n",
       "2011-01-04      0.000000           1.0       4.243750  16069.750000   0.546875  \n",
       "2011-01-05      0.000000           1.0       5.234375  16069.750000   1.662500  "
      ]
     },
     "execution_count": 74,
     "metadata": {},
     "output_type": "execute_result"
    }
   ],
   "source": [
    "weather_data.head()"
   ]
  },
  {
   "cell_type": "code",
   "execution_count": 75,
   "metadata": {},
   "outputs": [],
   "source": [
    "## get timestamp index for yellow taxi data\n",
    "dayofdata_taxi = []\n",
    "for i in range(len(taxi_trip_counts)):\n",
    "    dayofdata_taxi.append(datetime(int(taxi_trip_counts[\"tripyear\"][i]), \\\n",
    "                              int(taxi_trip_counts[\"tripmonth\"][i]),\\\n",
    "                              int(taxi_trip_counts[\"tripday\"][i])))\n",
    "taxi_trip_counts[\"dayofdata\"] = dayofdata_taxi\n",
    "taxi_trip_counts = taxi_trip_counts.set_index(\"dayofdata\",drop=True)  "
   ]
  },
  {
   "cell_type": "code",
   "execution_count": 76,
   "metadata": {},
   "outputs": [
    {
     "data": {
      "text/html": [
       "<div>\n",
       "<style>\n",
       "    .dataframe thead tr:only-child th {\n",
       "        text-align: right;\n",
       "    }\n",
       "\n",
       "    .dataframe thead th {\n",
       "        text-align: left;\n",
       "    }\n",
       "\n",
       "    .dataframe tbody tr th {\n",
       "        vertical-align: top;\n",
       "    }\n",
       "</style>\n",
       "<table border=\"1\" class=\"dataframe\">\n",
       "  <thead>\n",
       "    <tr style=\"text-align: right;\">\n",
       "      <th></th>\n",
       "      <th>tripyear</th>\n",
       "      <th>tripmonth</th>\n",
       "      <th>tripday</th>\n",
       "      <th>count</th>\n",
       "    </tr>\n",
       "    <tr>\n",
       "      <th>dayofdata</th>\n",
       "      <th></th>\n",
       "      <th></th>\n",
       "      <th></th>\n",
       "      <th></th>\n",
       "    </tr>\n",
       "  </thead>\n",
       "  <tbody>\n",
       "    <tr>\n",
       "      <th>2011-01-01</th>\n",
       "      <td>2011</td>\n",
       "      <td>1</td>\n",
       "      <td>1</td>\n",
       "      <td>183030</td>\n",
       "    </tr>\n",
       "    <tr>\n",
       "      <th>2011-01-02</th>\n",
       "      <td>2011</td>\n",
       "      <td>1</td>\n",
       "      <td>2</td>\n",
       "      <td>158706</td>\n",
       "    </tr>\n",
       "    <tr>\n",
       "      <th>2011-01-03</th>\n",
       "      <td>2011</td>\n",
       "      <td>1</td>\n",
       "      <td>3</td>\n",
       "      <td>374927</td>\n",
       "    </tr>\n",
       "    <tr>\n",
       "      <th>2011-01-04</th>\n",
       "      <td>2011</td>\n",
       "      <td>1</td>\n",
       "      <td>4</td>\n",
       "      <td>407012</td>\n",
       "    </tr>\n",
       "    <tr>\n",
       "      <th>2011-01-05</th>\n",
       "      <td>2011</td>\n",
       "      <td>1</td>\n",
       "      <td>5</td>\n",
       "      <td>439070</td>\n",
       "    </tr>\n",
       "  </tbody>\n",
       "</table>\n",
       "</div>"
      ],
      "text/plain": [
       "            tripyear  tripmonth  tripday   count\n",
       "dayofdata                                       \n",
       "2011-01-01      2011          1        1  183030\n",
       "2011-01-02      2011          1        2  158706\n",
       "2011-01-03      2011          1        3  374927\n",
       "2011-01-04      2011          1        4  407012\n",
       "2011-01-05      2011          1        5  439070"
      ]
     },
     "execution_count": 76,
     "metadata": {},
     "output_type": "execute_result"
    }
   ],
   "source": [
    "taxi_trip_counts.head()"
   ]
  },
  {
   "cell_type": "code",
   "execution_count": 77,
   "metadata": {},
   "outputs": [],
   "source": [
    "data_merge = pd.DataFrame(pd.read_csv(\"data_final/data_firstmerge.csv\"))\n",
    "data_merge = data_merge.set_index(\"date\",drop=True)"
   ]
  },
  {
   "cell_type": "code",
   "execution_count": 78,
   "metadata": {},
   "outputs": [],
   "source": [
    "data_merge.index = pd.Series(data_merge.index).apply(lambda x: datetime.strptime(x, \"%Y-%m-%d\"))\n",
    "# taxi_trip_counts.index = pd.Series(taxi_trip_counts.index).apply(lambda x: datetime.strptime(x, \"%Y-%m-%d\"))"
   ]
  },
  {
   "cell_type": "code",
   "execution_count": 79,
   "metadata": {},
   "outputs": [],
   "source": [
    "data_final = data_merge.merge(taxi_trip_counts, how=\"inner\",\n",
    "                             left_on=data_merge.index.values, \n",
    "                              right_on=taxi_trip_counts.index.values)"
   ]
  },
  {
   "cell_type": "code",
   "execution_count": 80,
   "metadata": {},
   "outputs": [],
   "source": [
    "data_final = data_final.set_index(\"key_0\",drop=True)"
   ]
  },
  {
   "cell_type": "code",
   "execution_count": 81,
   "metadata": {},
   "outputs": [
    {
     "data": {
      "text/plain": [
       "DatetimeIndex(['2011-01-01', '2011-01-02', '2011-01-03', '2011-01-04',\n",
       "               '2011-01-05', '2011-01-06', '2011-01-07', '2011-01-08',\n",
       "               '2011-01-09', '2011-01-10',\n",
       "               ...\n",
       "               '2016-12-22', '2016-12-23', '2016-12-24', '2016-12-25',\n",
       "               '2016-12-26', '2016-12-27', '2016-12-28', '2016-12-29',\n",
       "               '2016-12-30', '2016-12-31'],\n",
       "              dtype='datetime64[ns]', name='key_0', length=1793, freq=None)"
      ]
     },
     "execution_count": 81,
     "metadata": {},
     "output_type": "execute_result"
    }
   ],
   "source": [
    "data_final.index"
   ]
  },
  {
   "cell_type": "code",
   "execution_count": 82,
   "metadata": {},
   "outputs": [
    {
     "data": {
      "text/plain": [
       "DatetimeIndex(['2011-01-01', '2011-01-02', '2011-01-03', '2011-01-04',\n",
       "               '2011-01-05', '2011-01-06', '2011-01-07', '2011-01-08',\n",
       "               '2011-01-09', '2011-01-10',\n",
       "               ...\n",
       "               '2017-12-23', '2017-12-24', '2017-12-25', '2017-12-26',\n",
       "               '2017-12-27', '2017-12-28', '2017-12-29', '2017-12-30',\n",
       "               '2017-12-31', '2018-01-01'],\n",
       "              dtype='datetime64[ns]', name='dayofdata', length=2558, freq=None)"
      ]
     },
     "execution_count": 82,
     "metadata": {},
     "output_type": "execute_result"
    }
   ],
   "source": [
    "weather_data.index"
   ]
  },
  {
   "cell_type": "code",
   "execution_count": 83,
   "metadata": {},
   "outputs": [],
   "source": [
    "data_final = data_final.merge(weather_data, how=\"inner\",\n",
    "                             left_on=data_final.index.values,\n",
    "                             right_on=weather_data.index.values)"
   ]
  },
  {
   "cell_type": "code",
   "execution_count": 84,
   "metadata": {},
   "outputs": [],
   "source": [
    "data_final = data_final.set_index(\"key_0\",drop=True)"
   ]
  },
  {
   "cell_type": "code",
   "execution_count": 94,
   "metadata": {},
   "outputs": [],
   "source": [
    "## non-na\n",
    "full_keys = list(data_final.isnull().any()[data_final.isnull().\\\n",
    "                                           any()==False].keys())"
   ]
  },
  {
   "cell_type": "code",
   "execution_count": 130,
   "metadata": {},
   "outputs": [],
   "source": [
    "scaler = StandardScaler()\n",
    "minmax = MinMaxScaler()\n",
    "data = pd.DataFrame(scaler.fit_transform(data_final[full_keys]),\\\n",
    "                    columns=full_keys)\n",
    "data = pd.DataFrame(minmax.fit_transform(data),\\\n",
    "                    columns=full_keys)"
   ]
  },
  {
   "cell_type": "code",
   "execution_count": 133,
   "metadata": {},
   "outputs": [
    {
     "data": {
      "text/html": [
       "<div>\n",
       "<style>\n",
       "    .dataframe thead tr:only-child th {\n",
       "        text-align: right;\n",
       "    }\n",
       "\n",
       "    .dataframe thead th {\n",
       "        text-align: left;\n",
       "    }\n",
       "\n",
       "    .dataframe tbody tr th {\n",
       "        vertical-align: top;\n",
       "    }\n",
       "</style>\n",
       "<table border=\"1\" class=\"dataframe\">\n",
       "  <thead>\n",
       "    <tr style=\"text-align: right;\">\n",
       "      <th></th>\n",
       "      <th>felonies</th>\n",
       "      <th>misdemeanors</th>\n",
       "      <th>violations</th>\n",
       "      <th>Temp</th>\n",
       "      <th>Spd</th>\n",
       "      <th>Prcp</th>\n",
       "      <th>tripyear</th>\n",
       "      <th>tripmonth</th>\n",
       "      <th>tripday</th>\n",
       "      <th>count</th>\n",
       "      <th>weatheryear</th>\n",
       "      <th>weathermonth</th>\n",
       "      <th>weatherday</th>\n",
       "      <th>avg(SDWclean)</th>\n",
       "      <th>avg(SDclean)</th>\n",
       "      <th>avg(SAclean)</th>\n",
       "      <th>avg(Spdclean)</th>\n",
       "      <th>avg(Visb)</th>\n",
       "      <th>avg(Temp)</th>\n",
       "    </tr>\n",
       "  </thead>\n",
       "  <tbody>\n",
       "    <tr>\n",
       "      <th>0</th>\n",
       "      <td>1.000000</td>\n",
       "      <td>0.946360</td>\n",
       "      <td>0.688623</td>\n",
       "      <td>0.355519</td>\n",
       "      <td>0.129189</td>\n",
       "      <td>0.000000</td>\n",
       "      <td>0.0</td>\n",
       "      <td>0.0</td>\n",
       "      <td>0.000000</td>\n",
       "      <td>0.278487</td>\n",
       "      <td>0.0</td>\n",
       "      <td>0.0</td>\n",
       "      <td>0.000000</td>\n",
       "      <td>0.0</td>\n",
       "      <td>0.190738</td>\n",
       "      <td>0.0</td>\n",
       "      <td>0.128790</td>\n",
       "      <td>0.663971</td>\n",
       "      <td>0.360497</td>\n",
       "    </tr>\n",
       "    <tr>\n",
       "      <th>1</th>\n",
       "      <td>0.189753</td>\n",
       "      <td>0.192529</td>\n",
       "      <td>0.281437</td>\n",
       "      <td>0.410916</td>\n",
       "      <td>0.069924</td>\n",
       "      <td>0.008581</td>\n",
       "      <td>0.0</td>\n",
       "      <td>0.0</td>\n",
       "      <td>0.033333</td>\n",
       "      <td>0.235322</td>\n",
       "      <td>0.0</td>\n",
       "      <td>0.0</td>\n",
       "      <td>0.033333</td>\n",
       "      <td>0.0</td>\n",
       "      <td>0.061034</td>\n",
       "      <td>0.0</td>\n",
       "      <td>0.072096</td>\n",
       "      <td>0.351756</td>\n",
       "      <td>0.413991</td>\n",
       "    </tr>\n",
       "    <tr>\n",
       "      <th>2</th>\n",
       "      <td>0.284630</td>\n",
       "      <td>0.262452</td>\n",
       "      <td>0.395210</td>\n",
       "      <td>0.309770</td>\n",
       "      <td>0.558375</td>\n",
       "      <td>0.010368</td>\n",
       "      <td>0.0</td>\n",
       "      <td>0.0</td>\n",
       "      <td>0.066667</td>\n",
       "      <td>0.619026</td>\n",
       "      <td>0.0</td>\n",
       "      <td>0.0</td>\n",
       "      <td>0.066667</td>\n",
       "      <td>0.0</td>\n",
       "      <td>0.004245</td>\n",
       "      <td>0.0</td>\n",
       "      <td>0.564103</td>\n",
       "      <td>0.986635</td>\n",
       "      <td>0.312353</td>\n",
       "    </tr>\n",
       "    <tr>\n",
       "      <th>3</th>\n",
       "      <td>0.352941</td>\n",
       "      <td>0.371648</td>\n",
       "      <td>0.473054</td>\n",
       "      <td>0.295729</td>\n",
       "      <td>0.220658</td>\n",
       "      <td>0.000000</td>\n",
       "      <td>0.0</td>\n",
       "      <td>0.0</td>\n",
       "      <td>0.100000</td>\n",
       "      <td>0.675964</td>\n",
       "      <td>0.0</td>\n",
       "      <td>0.0</td>\n",
       "      <td>0.100000</td>\n",
       "      <td>0.0</td>\n",
       "      <td>0.000000</td>\n",
       "      <td>0.0</td>\n",
       "      <td>0.228895</td>\n",
       "      <td>0.986635</td>\n",
       "      <td>0.299696</td>\n",
       "    </tr>\n",
       "    <tr>\n",
       "      <th>4</th>\n",
       "      <td>0.368121</td>\n",
       "      <td>0.423372</td>\n",
       "      <td>0.479042</td>\n",
       "      <td>0.319161</td>\n",
       "      <td>0.312127</td>\n",
       "      <td>0.000000</td>\n",
       "      <td>0.0</td>\n",
       "      <td>0.0</td>\n",
       "      <td>0.133333</td>\n",
       "      <td>0.732854</td>\n",
       "      <td>0.0</td>\n",
       "      <td>0.0</td>\n",
       "      <td>0.133333</td>\n",
       "      <td>0.0</td>\n",
       "      <td>0.000000</td>\n",
       "      <td>0.0</td>\n",
       "      <td>0.310824</td>\n",
       "      <td>0.986635</td>\n",
       "      <td>0.324388</td>\n",
       "    </tr>\n",
       "  </tbody>\n",
       "</table>\n",
       "</div>"
      ],
      "text/plain": [
       "   felonies  misdemeanors  violations      Temp       Spd      Prcp  tripyear  \\\n",
       "0  1.000000      0.946360    0.688623  0.355519  0.129189  0.000000       0.0   \n",
       "1  0.189753      0.192529    0.281437  0.410916  0.069924  0.008581       0.0   \n",
       "2  0.284630      0.262452    0.395210  0.309770  0.558375  0.010368       0.0   \n",
       "3  0.352941      0.371648    0.473054  0.295729  0.220658  0.000000       0.0   \n",
       "4  0.368121      0.423372    0.479042  0.319161  0.312127  0.000000       0.0   \n",
       "\n",
       "   tripmonth   tripday     count  weatheryear  weathermonth  weatherday  \\\n",
       "0        0.0  0.000000  0.278487          0.0           0.0    0.000000   \n",
       "1        0.0  0.033333  0.235322          0.0           0.0    0.033333   \n",
       "2        0.0  0.066667  0.619026          0.0           0.0    0.066667   \n",
       "3        0.0  0.100000  0.675964          0.0           0.0    0.100000   \n",
       "4        0.0  0.133333  0.732854          0.0           0.0    0.133333   \n",
       "\n",
       "   avg(SDWclean)  avg(SDclean)  avg(SAclean)  avg(Spdclean)  avg(Visb)  \\\n",
       "0            0.0      0.190738           0.0       0.128790   0.663971   \n",
       "1            0.0      0.061034           0.0       0.072096   0.351756   \n",
       "2            0.0      0.004245           0.0       0.564103   0.986635   \n",
       "3            0.0      0.000000           0.0       0.228895   0.986635   \n",
       "4            0.0      0.000000           0.0       0.310824   0.986635   \n",
       "\n",
       "   avg(Temp)  \n",
       "0   0.360497  \n",
       "1   0.413991  \n",
       "2   0.312353  \n",
       "3   0.299696  \n",
       "4   0.324388  "
      ]
     },
     "execution_count": 133,
     "metadata": {},
     "output_type": "execute_result"
    }
   ],
   "source": [
    "data = data[data[\"count\"]>=0.07]\n",
    "data.head()"
   ]
  },
  {
   "cell_type": "code",
   "execution_count": 204,
   "metadata": {},
   "outputs": [
    {
     "data": {
      "image/png": "[encoded data removed]",
      "text/plain": [
       "<matplotlib.figure.Figure at 0x1a38380128>"
      ]
     },
     "metadata": {},
     "output_type": "display_data"
    }
   ],
   "source": [
    "plt.figure(figsize=(20,10))\n",
    "plt.plot(data[\"felonies\"],label=\"felonies\",color=\"limegreen\",linewidth=2.5,alpha=0.6,marker=\"o\",\n",
    "        markersize=8,markerfacecolor=None)\n",
    "# plt.plot(data[\"violations\"],label=\"violations\",color=\"b\",linewidth=2.5,alpha=0.6,marker=\"o\",\n",
    "#         markersize=7,markerfacecolor=None)\n",
    "plt.plot(data[\"count\"],label=\"num_taxi_trips\",linewidth=2.5,color=\"b\",alpha=0.7,marker=\"o\",\n",
    "        markersize=8,markerfacecolor=None)\n",
    "plt.xlim(1010,1040)\n",
    "plt.legend()\n",
    "plt.rcParams[\"font.size\"] = 16\n",
    "plt.title(\"Taxi Trips vs Felonies\")\n",
    "plt.ylabel(\"Daily Average\")\n",
    "plt.xlabel(\"Days\")\n",
    "plt.grid()\n"
   ]
  },
  {
   "cell_type": "code",
   "execution_count": 168,
   "metadata": {
    "collapsed": true
   },
   "outputs": [],
   "source": [
    "data_try = pd.DataFrame(pd.read_csv(\"data_final/data_firstmerge.csv\"))"
   ]
  },
  {
   "cell_type": "code",
   "execution_count": 171,
   "metadata": {},
   "outputs": [],
   "source": [
    "data_try = data_try.drop([\"Temp\",\"Spd\",\"Prcp\"],1)"
   ]
  },
  {
   "cell_type": "code",
   "execution_count": 173,
   "metadata": {},
   "outputs": [
    {
     "data": {
      "text/plain": [
       "date                             False\n",
       "felonies                         False\n",
       "misdemeanors                     False\n",
       "violations                       False\n",
       "mean_duration                     True\n",
       "num_trips                         True\n",
       "Traffic Signal Condition         False\n",
       "Cranes and Derricks              False\n",
       "SAFETY                           False\n",
       "ELECTRIC                         False\n",
       "Tanning                          False\n",
       "DOOR/WINDOW                      False\n",
       "Comments                         False\n",
       "Noise - Helicopter               False\n",
       "STRUCTURAL                       False\n",
       "Broken Parking Meter             False\n",
       "Window Guard                     False\n",
       "Broken Muni Meter                False\n",
       "Highway Condition                False\n",
       "Street Condition                 False\n",
       "FLOORING/STAIRS                  False\n",
       "Hazardous Materials              False\n",
       "DOF Literature Request           False\n",
       "Vending                          False\n",
       "Ferry Permit                     False\n",
       "PAINT - PLASTER                  False\n",
       "Taxi Report                      False\n",
       "OUTSIDE BUILDING                 False\n",
       "Advocate-Prop Refunds/Credits    False\n",
       "Drinking Water                   False\n",
       "                                 ...  \n",
       "AR.1                             False\n",
       "DUMP.1                           False\n",
       "TK.1                             False\n",
       "tank.1                           False\n",
       "VN.1                             False\n",
       "Moped                            False\n",
       "trk                              False\n",
       "2TON                             False\n",
       "fire.1                           False\n",
       "LIGHT                            False\n",
       "E-BIK.1                          False\n",
       "15 PA                            False\n",
       "FDNY.1                           False\n",
       "NYC B                            False\n",
       "cat 3                            False\n",
       "UT                               False\n",
       "City                             False\n",
       "UNKNO.1                          False\n",
       "LIVERY VEHICLE.1                 False\n",
       "SCOOTER.1                        False\n",
       "DP.1                             False\n",
       "ST.1                             False\n",
       "TANK                             False\n",
       "sciss                            False\n",
       "Unnamed: 860                     False\n",
       "QUEENS                           False\n",
       "BROOKLYN                         False\n",
       "BRONX                            False\n",
       "MANHATTAN                        False\n",
       "STATEN ISLAND                    False\n",
       "Length: 871, dtype: bool"
      ]
     },
     "execution_count": 173,
     "metadata": {},
     "output_type": "execute_result"
    }
   ],
   "source": [
    "data_try.isnull().all()"
   ]
  },
  {
   "cell_type": "code",
   "execution_count": null,
   "metadata": {
    "collapsed": true
   },
   "outputs": [],
   "source": []
  }
 ],
 "metadata": {
  "kernelspec": {
   "display_name": "Python 3",
   "language": "python",
   "name": "python3"
  },
  "language_info": {
   "codemirror_mode": {
    "name": "ipython",
    "version": 3
   },
   "file_extension": ".py",
   "mimetype": "text/x-python",
   "name": "python",
   "nbconvert_exporter": "python",
   "pygments_lexer": "ipython3",
   "version": "3.6.1"
  }
 },
 "nbformat": 4,
 "nbformat_minor": 2
}
