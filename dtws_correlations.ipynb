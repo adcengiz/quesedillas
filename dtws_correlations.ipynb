{
 "cells": [
  {
   "cell_type": "code",
   "execution_count": 17,
   "metadata": {
    "collapsed": true
   },
   "outputs": [],
   "source": [
    "import pandas as pd\n",
    "import numpy as np\n",
    "from dtw import dtw\n",
    "import matplotlib.pyplot as plt\n",
    "%matplotlib inline"
   ]
  },
  {
   "cell_type": "code",
   "execution_count": 37,
   "metadata": {},
   "outputs": [
    {
     "name": "stdout",
     "output_type": "stream",
     "text": [
      "Populating the interactive namespace from numpy and matplotlib\n"
     ]
    },
    {
     "name": "stderr",
     "output_type": "stream",
     "text": [
      "C:\\Anaconda3\\lib\\site-packages\\IPython\\core\\magics\\pylab.py:160: UserWarning: pylab import has clobbered these variables: ['dist']\n",
      "`%matplotlib` prevents importing * from pylab and numpy\n",
      "  \"\\n`%matplotlib` prevents importing * from pylab and numpy\"\n"
     ]
    }
   ],
   "source": [
    "%pylab inline"
   ]
  },
  {
   "cell_type": "code",
   "execution_count": 18,
   "metadata": {},
   "outputs": [
    {
     "data": {
      "text/html": [
       "<div>\n",
       "<style>\n",
       "    .dataframe thead tr:only-child th {\n",
       "        text-align: right;\n",
       "    }\n",
       "\n",
       "    .dataframe thead th {\n",
       "        text-align: left;\n",
       "    }\n",
       "\n",
       "    .dataframe tbody tr th {\n",
       "        vertical-align: top;\n",
       "    }\n",
       "</style>\n",
       "<table border=\"1\" class=\"dataframe\">\n",
       "  <thead>\n",
       "    <tr style=\"text-align: right;\">\n",
       "      <th></th>\n",
       "      <th>Temp</th>\n",
       "      <th>Spd</th>\n",
       "      <th>Prcp</th>\n",
       "      <th>mean_duration</th>\n",
       "      <th>num_trips</th>\n",
       "    </tr>\n",
       "    <tr>\n",
       "      <th>day_x</th>\n",
       "      <th></th>\n",
       "      <th></th>\n",
       "      <th></th>\n",
       "      <th></th>\n",
       "      <th></th>\n",
       "    </tr>\n",
       "  </thead>\n",
       "  <tbody>\n",
       "    <tr>\n",
       "      <th>2011-01-01</th>\n",
       "      <td>3.250000</td>\n",
       "      <td>2.987500</td>\n",
       "      <td>0.0</td>\n",
       "      <td>NaN</td>\n",
       "      <td>NaN</td>\n",
       "    </tr>\n",
       "    <tr>\n",
       "      <th>2011-01-02</th>\n",
       "      <td>5.732353</td>\n",
       "      <td>2.255882</td>\n",
       "      <td>4.8</td>\n",
       "      <td>NaN</td>\n",
       "      <td>NaN</td>\n",
       "    </tr>\n",
       "    <tr>\n",
       "      <th>2011-01-03</th>\n",
       "      <td>1.200000</td>\n",
       "      <td>8.285714</td>\n",
       "      <td>5.8</td>\n",
       "      <td>NaN</td>\n",
       "      <td>NaN</td>\n",
       "    </tr>\n",
       "    <tr>\n",
       "      <th>2011-01-04</th>\n",
       "      <td>0.570833</td>\n",
       "      <td>4.116667</td>\n",
       "      <td>0.0</td>\n",
       "      <td>NaN</td>\n",
       "      <td>NaN</td>\n",
       "    </tr>\n",
       "    <tr>\n",
       "      <th>2011-01-05</th>\n",
       "      <td>1.620833</td>\n",
       "      <td>5.245833</td>\n",
       "      <td>0.0</td>\n",
       "      <td>NaN</td>\n",
       "      <td>NaN</td>\n",
       "    </tr>\n",
       "  </tbody>\n",
       "</table>\n",
       "</div>"
      ],
      "text/plain": [
       "                Temp       Spd  Prcp  mean_duration  num_trips\n",
       "day_x                                                         \n",
       "2011-01-01  3.250000  2.987500   0.0            NaN        NaN\n",
       "2011-01-02  5.732353  2.255882   4.8            NaN        NaN\n",
       "2011-01-03  1.200000  8.285714   5.8            NaN        NaN\n",
       "2011-01-04  0.570833  4.116667   0.0            NaN        NaN\n",
       "2011-01-05  1.620833  5.245833   0.0            NaN        NaN"
      ]
     },
     "execution_count": 18,
     "metadata": {},
     "output_type": "execute_result"
    }
   ],
   "source": [
    "data.head()"
   ]
  },
  {
   "cell_type": "code",
   "execution_count": 22,
   "metadata": {},
   "outputs": [
    {
     "data": {
      "text/html": [
       "<div>\n",
       "<style>\n",
       "    .dataframe thead tr:only-child th {\n",
       "        text-align: right;\n",
       "    }\n",
       "\n",
       "    .dataframe thead th {\n",
       "        text-align: left;\n",
       "    }\n",
       "\n",
       "    .dataframe tbody tr th {\n",
       "        vertical-align: top;\n",
       "    }\n",
       "</style>\n",
       "<table border=\"1\" class=\"dataframe\">\n",
       "  <thead>\n",
       "    <tr style=\"text-align: right;\">\n",
       "      <th></th>\n",
       "      <th>Temp</th>\n",
       "      <th>Spd</th>\n",
       "      <th>Prcp</th>\n",
       "      <th>merge_date</th>\n",
       "      <th>mean_duration</th>\n",
       "      <th>num_trips</th>\n",
       "    </tr>\n",
       "    <tr>\n",
       "      <th>day_x</th>\n",
       "      <th></th>\n",
       "      <th></th>\n",
       "      <th></th>\n",
       "      <th></th>\n",
       "      <th></th>\n",
       "      <th></th>\n",
       "    </tr>\n",
       "  </thead>\n",
       "  <tbody>\n",
       "    <tr>\n",
       "      <th>2013-07-01</th>\n",
       "      <td>22.834211</td>\n",
       "      <td>4.992105</td>\n",
       "      <td>58.8</td>\n",
       "      <td>20130701</td>\n",
       "      <td>978.599279</td>\n",
       "      <td>16650.0</td>\n",
       "    </tr>\n",
       "    <tr>\n",
       "      <th>2013-07-02</th>\n",
       "      <td>23.210345</td>\n",
       "      <td>5.800000</td>\n",
       "      <td>1.6</td>\n",
       "      <td>20130702</td>\n",
       "      <td>958.129567</td>\n",
       "      <td>22745.0</td>\n",
       "    </tr>\n",
       "    <tr>\n",
       "      <th>2013-07-03</th>\n",
       "      <td>23.536364</td>\n",
       "      <td>4.724242</td>\n",
       "      <td>27.1</td>\n",
       "      <td>20130703</td>\n",
       "      <td>974.328485</td>\n",
       "      <td>21864.0</td>\n",
       "    </tr>\n",
       "    <tr>\n",
       "      <th>2013-07-04</th>\n",
       "      <td>24.679310</td>\n",
       "      <td>4.282759</td>\n",
       "      <td>6.3</td>\n",
       "      <td>20130704</td>\n",
       "      <td>1273.108439</td>\n",
       "      <td>22326.0</td>\n",
       "    </tr>\n",
       "    <tr>\n",
       "      <th>2013-07-05</th>\n",
       "      <td>25.992000</td>\n",
       "      <td>4.804000</td>\n",
       "      <td>0.0</td>\n",
       "      <td>20130705</td>\n",
       "      <td>1082.426609</td>\n",
       "      <td>21842.0</td>\n",
       "    </tr>\n",
       "  </tbody>\n",
       "</table>\n",
       "</div>"
      ],
      "text/plain": [
       "                 Temp       Spd  Prcp  merge_date  mean_duration  num_trips\n",
       "day_x                                                                      \n",
       "2013-07-01  22.834211  4.992105  58.8    20130701     978.599279    16650.0\n",
       "2013-07-02  23.210345  5.800000   1.6    20130702     958.129567    22745.0\n",
       "2013-07-03  23.536364  4.724242  27.1    20130703     974.328485    21864.0\n",
       "2013-07-04  24.679310  4.282759   6.3    20130704    1273.108439    22326.0\n",
       "2013-07-05  25.992000  4.804000   0.0    20130705    1082.426609    21842.0"
      ]
     },
     "execution_count": 22,
     "metadata": {},
     "output_type": "execute_result"
    }
   ],
   "source": [
    "data=weather=pd.read_csv('bike_weather2.csv', header=0)\n",
    "data=data.drop(['Unnamed: 0','day_y'],axis=1)\n",
    "data=data.set_index('day_x')\n",
    "data=data.dropna()\n",
    "data.head()"
   ]
  },
  {
   "cell_type": "code",
   "execution_count": 49,
   "metadata": {},
   "outputs": [],
   "source": [
    "x=np.array(data['mean_duration']).reshape(-1, 1)\n",
    "y=np.array(data['Temp']).reshape(-1, 1)"
   ]
  },
  {
   "cell_type": "code",
   "execution_count": 50,
   "metadata": {},
   "outputs": [
    {
     "data": {
      "text/plain": [
       "array([[ 978.59927928],\n",
       "       [ 958.12956694],\n",
       "       [ 974.32848518],\n",
       "       ..., \n",
       "       [ 654.90071953],\n",
       "       [ 743.40261921],\n",
       "       [ 790.34617141]])"
      ]
     },
     "execution_count": 50,
     "metadata": {},
     "output_type": "execute_result"
    }
   ],
   "source": [
    "x"
   ]
  },
  {
   "cell_type": "code",
   "execution_count": 51,
   "metadata": {},
   "outputs": [
    {
     "data": {
      "text/plain": [
       "array([[ 22.83421053],\n",
       "       [ 23.21034483],\n",
       "       [ 23.53636364],\n",
       "       ..., \n",
       "       [ -9.00833333],\n",
       "       [ -6.50294118],\n",
       "       [ -8.26538462]])"
      ]
     },
     "execution_count": 51,
     "metadata": {},
     "output_type": "execute_result"
    }
   ],
   "source": [
    "y"
   ]
  },
  {
   "cell_type": "code",
   "execution_count": 52,
   "metadata": {},
   "outputs": [
    {
     "name": "stdout",
     "output_type": "stream",
     "text": [
      "455.420813921\n"
     ]
    }
   ],
   "source": [
    "x=np.array(data['mean_duration']).reshape(-1, 1)\n",
    "y=np.array(data['Temp']).reshape(-1, 1)\n",
    "\n",
    "dist, cost, acc, path = dtw(x, y, lambda x, y: np.linalg.norm(x - y, ord=2))\n",
    "print(dist)"
   ]
  },
  {
   "cell_type": "code",
   "execution_count": 53,
   "metadata": {},
   "outputs": [
    {
     "data": {
      "text/plain": [
       "(array([   0,    1,    2, ..., 1456, 1457, 1458]),\n",
       " array([   0,    1,    2, ..., 1456, 1457, 1458]))"
      ]
     },
     "execution_count": 53,
     "metadata": {},
     "output_type": "execute_result"
    }
   ],
   "source": [
    "path"
   ]
  },
  {
   "cell_type": "code",
   "execution_count": 54,
   "metadata": {},
   "outputs": [
    {
     "data": {
      "text/plain": [
       "(-0.5, 1458.5)"
      ]
     },
     "execution_count": 54,
     "metadata": {},
     "output_type": "execute_result"
    },
    {
     "data": {
      "image/png": "[encoded data removed]",
      "text/plain": [
       "<matplotlib.figure.Figure at 0x193a77d72e8>"
      ]
     },
     "metadata": {},
     "output_type": "display_data"
    }
   ],
   "source": [
    "imshow(acc.T, origin='lower', cmap=cm.gray, interpolation='nearest')\n",
    "plot(path[0], path[1], 'w')\n",
    "xlim((-0.5, acc.shape[0]-0.5))\n",
    "ylim((-0.5, acc.shape[1]-0.5))"
   ]
  }
 ],
 "metadata": {
  "kernelspec": {
   "display_name": "Python 3",
   "language": "python",
   "name": "python3"
  },
  "language_info": {
   "codemirror_mode": {
    "name": "ipython",
    "version": 3
   },
   "file_extension": ".py",
   "mimetype": "text/x-python",
   "name": "python",
   "nbconvert_exporter": "python",
   "pygments_lexer": "ipython3",
   "version": "3.6.1"
  }
 },
 "nbformat": 4,
 "nbformat_minor": 2
}
